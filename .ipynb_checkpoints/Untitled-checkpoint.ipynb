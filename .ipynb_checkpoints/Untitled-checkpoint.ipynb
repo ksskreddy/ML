{
 "cells": [
  {
   "cell_type": "code",
   "execution_count": 410,
   "metadata": {
    "collapsed": true
   },
   "outputs": [],
   "source": [
    "%matplotlib inline  \n",
    "import pandas as pd\n",
    "import numpy as np\n",
    "import matplotlib.pyplot as plt\n",
    "import math"
   ]
  },
  {
   "cell_type": "code",
   "execution_count": 411,
   "metadata": {
    "collapsed": true
   },
   "outputs": [],
   "source": [
    "\n",
    "def errorfunc(x_data,pred_theta,y_data):\n",
    "    temp=np.dot(x_data,pred_theta)-y_data;\n",
    "    temp=temp**2;\n",
    "    return (float)(temp.sum()/(2.0*(len(x_data))));"
   ]
  },
  {
   "cell_type": "code",
   "execution_count": 412,
   "metadata": {
    "collapsed": true
   },
   "outputs": [],
   "source": [
    "def perf_measure(x_data,pred_theta,y_data,):\n",
    "    temp=np.dot(x_data,pred_theta)-y_data;\n",
    "    temp=temp**2;\n",
    "    temp1= (float)(temp.sum()/((len(x_data))));\n",
    "    return  math.sqrt(temp1);"
   ]
  },
  {
   "cell_type": "code",
   "execution_count": 413,
   "metadata": {
    "collapsed": true
   },
   "outputs": [],
   "source": [
    "def featureScaling(data):\n",
    "        for col in data.columns:\n",
    "            mean=(data[col].mean());\n",
    "            den=((data[col].max()-data[col].min())*1.0);\n",
    "            data[col]=(data[col]-mean)/data[col].std();\n",
    "def featureScaling1(data):\n",
    "            mean=(data.mean());\n",
    "            den=((data.max()-data.min())*1.0);\n",
    "            data=(data-mean)/data.std();"
   ]
  },
  {
   "cell_type": "code",
   "execution_count": 414,
   "metadata": {},
   "outputs": [],
   "source": [
    "def train_model(x_data,theta,y_data,alpha):\n",
    "    for i in range(0,1000):\n",
    "        temp=np.dot(x_data,theta)-y_data;\n",
    "        temp=np.dot(np.transpose(x_data),temp);\n",
    "        theta= (theta)-(((1.0*alpha)/len(x_data))*temp);\n",
    "    return theta;\n"
   ]
  },
  {
   "cell_type": "code",
   "execution_count": 415,
   "metadata": {},
   "outputs": [
    {
     "ename": "IndentationError",
     "evalue": "expected an indented block (<ipython-input-415-f0fb639a9283>, line 3)",
     "output_type": "error",
     "traceback": [
      "\u001b[0;36m  File \u001b[0;32m\"<ipython-input-415-f0fb639a9283>\"\u001b[0;36m, line \u001b[0;32m3\u001b[0m\n\u001b[0;31m    train_xData=train_data.iloc[:,0:columns-1].copy();\u001b[0m\n\u001b[0m              ^\u001b[0m\n\u001b[0;31mIndentationError\u001b[0m\u001b[0;31m:\u001b[0m expected an indented block\n"
     ]
    }
   ],
   "source": [
    "def linear_features(train_data,test_data,columns):\n",
    "    train_xData=train_data.iloc[:,0:columns-1].copy();\n",
    "    train_xData['x0']=1;\n",
    "    train_yData=train_data.iloc[:,columns-1:];\n",
    "    test_xData=test_data.iloc[:,0:columns-1].copy();\n",
    "    test_xData['x0']=1;\n",
    "    test_yData=test_data.iloc[:,columns-1:];\n",
    "    return train_xData,train_yData,test_xData,test_yData;"
   ]
  },
  {
   "cell_type": "code",
   "execution_count": null,
   "metadata": {},
   "outputs": [],
   "source": [
    "def quadratic_features(train_data,test_data,columns):\n",
    "    train_xData=train_data.iloc[:,0:columns-1].copy();\n",
    "    for i in range(0,columns-1):\n",
    "        buf=\"x%d_square\"%(i+1);\n",
    "        train_xData[buf]=train_xData.iloc[:,i].copy();\n",
    "        train_xData[buf]=train_xData[buf]**2;\n",
    "    train_xData['x0']=1;\n",
    "    train_yData=train_data.iloc[:,columns-1:];\n",
    "    test_xData=test_data.iloc[:,0:columns-1].copy();\n",
    "    for i in range(0,columns-1):\n",
    "        buf=\"x%d_square\"%(i+1);\n",
    "        test_xData[buf]=test_xData.iloc[:,i].copy();\n",
    "        test_xData[buf]=test_xData[buf]**2;\n",
    "    test_xData['x0']=1;\n",
    "    test_yData=test_data.iloc[:,columns-1:];\n",
    "    \n",
    "    return train_xData,train_yData,test_xData,test_yData;"
   ]
  },
  {
   "cell_type": "code",
   "execution_count": null,
   "metadata": {
    "collapsed": true
   },
   "outputs": [],
   "source": [
    "def cubic_features(train_data,test_data,columns):\n",
    "    train_xData=train_data.iloc[:,0:columns-1].copy();\n",
    "    for i in range(0,columns-1):\n",
    "        buf=\"x%d_cubic\"%(i+1);\n",
    "        train_xData[buf]=train_xData.iloc[:,i].copy();\n",
    "        train_xData[buf]=train_xData[buf]**3;\n",
    "    train_yData=train_data.iloc[:,columns-1:];\n",
    "    test_xData=test_data.iloc[:,0:columns-1].copy();\n",
    "    for i in range(0,columns-1):\n",
    "        buf=\"x%d_cubic\"%(i+1);\n",
    "        test_xData[buf]=test_xData.iloc[:,i].copy();\n",
    "        test_xData[buf]=test_xData[buf]**3;\n",
    "    test_yData=test_data.iloc[:,columns-1:];\n",
    "    featureScaling(train_xData);\n",
    "    featureScaling(train_yData);\n",
    "    featureScaling(test_xData);\n",
    "    featureScaling(test_yData);\n",
    "    train_xData['x0']=1;\n",
    "    test_xData['x0']=1;\n",
    "    return train_xData,train_yData,test_xData,test_yData;\n"
   ]
  },
  {
   "cell_type": "code",
   "execution_count": null,
   "metadata": {
    "collapsed": true
   },
   "outputs": [],
   "source": [
    "def get_results(columns,train_xData,train_yData,test_xData,test_yData,std1):\n",
    "    theta=np.random.rand(columns,1);\n",
    "    alpha_val=np.arange(0.01,0.1,0.01);\n",
    "    real_perferror_val=[];\n",
    "\n",
    "    for i in alpha_val:\n",
    "        theta=train_model(train_xData,theta,train_yData,i);\n",
    "        perf_error=perf_measure(test_xData,theta,test_yData);\n",
    "        real_perferror=(perf_error*std1);\n",
    "        real_perferror_val.append(real_perferror);\n",
    "    return alpha_val,real_perferror_val;"
   ]
  },
  {
   "cell_type": "code",
   "execution_count": null,
   "metadata": {
    "scrolled": false
   },
   "outputs": [],
   "source": [
    "def main():\n",
    "    data=pd.read_csv('kc_house_data.csv');\n",
    "    \n",
    "    rows,columns=data.shape;\n",
    "    train_size= (int)(0.8*(rows));\n",
    "    test_size=rows-train_size;\n",
    "    #featureScaling(data);\n",
    "    train_data=data[0:train_size];\n",
    "    test_data=data[train_size:];\n",
    "\n",
    "    plt.xlabel(\"Alpha values\");\n",
    "    plt.ylabel(\"Performance error\");\n",
    "    plt.title(\"Performance error vs Alpha\");\n",
    "\n",
    "    train_xData,train_yData,test_xData,test_yData,std1=linear_features(train_data,test_data,columns);\n",
    "    alpha_val,real_perferror_val=get_results(columns,train_xData,train_yData,test_xData,test_yData,std1);\n",
    "    plt.plot(alpha_val,real_perferror_val,marker='+',label=\"Linear\");\n",
    "\n",
    "    train_xData,train_yData,test_xData,test_yData=quadratic_features(train_data,test_data,columns);\n",
    "    alpha_val,real_perferror_val=get_results((2*columns)-1,train_xData,train_yData,test_xData,test_yData,std1);\n",
    "    plt.plot(alpha_val,real_perferror_val,marker='+',label=\"Quadratic\");\n",
    "\n",
    "    train_xData,train_yData,test_xData,test_yData=cubic_features(train_data,test_data,columns);\n",
    "    alpha_val,real_perferror_val=get_results((2*columns)-1,train_xData,train_yData,test_xData,test_yData,std1);\n",
    "    plt.plot(alpha_val,real_perferror_val,marker='+',label=\"Cubic\");\n",
    "        \n",
    "\n",
    "    \n",
    "    plt.legend();\n",
    "    plt.savefig(\"Different_combo_of_features.jpg\");\n",
    "    \n",
    "if __name__==\"__main__\":\n",
    "    main();\n",
    "    \n",
    "    \n"
   ]
  }
 ],
 "metadata": {
  "kernelspec": {
   "display_name": "Python 3",
   "language": "python",
   "name": "python3"
  },
  "language_info": {
   "codemirror_mode": {
    "name": "ipython",
    "version": 3
   },
   "file_extension": ".py",
   "mimetype": "text/x-python",
   "name": "python",
   "nbconvert_exporter": "python",
   "pygments_lexer": "ipython3",
   "version": "3.6.3"
  }
 },
 "nbformat": 4,
 "nbformat_minor": 2
}
